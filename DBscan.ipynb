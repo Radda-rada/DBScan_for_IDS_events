{
 "cells": [
  {
   "cell_type": "code",
   "execution_count": 6,
   "metadata": {},
   "outputs": [],
   "source": [
    "import numpy as np\n",
    "\n",
    "import pandas as pd\n",
    "\n",
    "import matplotlib.pyplot as plt\n",
    "\n",
    "  \n",
    "\n",
    "from sklearn.cluster import DBSCAN\n",
    "\n",
    "from sklearn.preprocessing import StandardScaler\n",
    "\n",
    "from sklearn.preprocessing import normalize\n",
    "\n",
    "from sklearn.decomposition import PCA"
   ]
  },
  {
   "cell_type": "code",
   "execution_count": 12,
   "metadata": {},
   "outputs": [
    {
     "name": "stdout",
     "output_type": "stream",
     "text": [
      "   totalNum_AA  Num_countries  Num_days  Alertlevel  totalNum_TA  \\\n",
      "0          1.0            1.0       1.0         0.3          1.0   \n",
      "1          1.0            1.0       2.0         0.3          1.0   \n",
      "2          1.0            1.0       1.0         0.3          1.0   \n",
      "3          1.0            1.0       1.0         0.3          1.0   \n",
      "4          1.0            1.0       1.0         0.3          1.0   \n",
      "\n",
      "   totalNum_TA_      Mark  \n",
      "0             1  0.040625  \n",
      "1             4  0.053125  \n",
      "2             1  0.040625  \n",
      "3             4  0.053125  \n",
      "4             1  0.040625  \n"
     ]
    }
   ],
   "source": [
    "dk = pd.read_csv('D:testDF.csv')\n",
    "  \n",
    "# Удаление столбца из данных\n",
    "\n",
    "#df['scr_ip'] = df.index\n",
    "\n",
    "\n",
    "df = dk.drop('src_ip', axis = 1)\n",
    "df = df.drop('Unnamed: 0', axis = 1)\n",
    "  \n",
    "# Обработка пропущенных значений\n",
    "\n",
    "df.fillna(method ='ffill', inplace = True)\n",
    "\n",
    "  \n",
    "\n",
    "print(df.head())"
   ]
  },
  {
   "cell_type": "code",
   "execution_count": 13,
   "metadata": {},
   "outputs": [],
   "source": [
    "scaler = StandardScaler()\n",
    "\n",
    "df_scaled = scaler.fit_transform(df)\n",
    "\n",
    "  \n",
    "# Нормализация данных так, чтобы\n",
    "# данные примерно соответствуют гауссовскому распределению\n",
    "\n",
    "df_normalized = normalize(df_scaled)\n",
    "\n",
    "  \n",
    "# Преобразование массива numpy в панду DataFrame\n",
    "\n",
    "df_normalized = pd.DataFrame(df_normalized)"
   ]
  },
  {
   "cell_type": "code",
   "execution_count": 14,
   "metadata": {},
   "outputs": [
    {
     "name": "stdout",
     "output_type": "stream",
     "text": [
      "         P1        P2        P3\n",
      "0 -0.535971  0.016670 -0.035690\n",
      "1 -0.071208 -0.570158 -0.122731\n",
      "2 -0.535971  0.016670 -0.035690\n",
      "3 -0.522406 -0.023869  0.153010\n",
      "4 -0.535971  0.016670 -0.035690\n"
     ]
    }
   ],
   "source": [
    "pca = PCA(n_components = 3)\n",
    "\n",
    "df_principal = pca.fit_transform(df_normalized)\n",
    "\n",
    "df_principal = pd.DataFrame(df_principal)\n",
    "\n",
    "df_principal.columns = ['P1', 'P2', 'P3']\n",
    "\n",
    "print(df_principal.head())"
   ]
  },
  {
   "cell_type": "code",
   "execution_count": 15,
   "metadata": {},
   "outputs": [
    {
     "data": {
      "text/plain": [
       "DBSCAN(eps=0.298)"
      ]
     },
     "execution_count": 15,
     "metadata": {},
     "output_type": "execute_result"
    }
   ],
   "source": [
    "# Numpy массив всех меток кластера, назначенных каждой точке данных\n",
    "\n",
    "db_default = DBSCAN(eps = 0.298, min_samples = 5).fit(df_principal)\n",
    "\n",
    "\n",
    "#db_default = DBSCAN(eps = 0.59, min_samples = 5).fit(df_principal)\n",
    "\n",
    "labels = db_default.labels_\n",
    "db_default"
   ]
  },
  {
   "cell_type": "code",
   "execution_count": 16,
   "metadata": {},
   "outputs": [
    {
     "data": {
      "text/plain": [
       "array([ 0,  1,  0,  0,  0,  0,  2,  0,  0,  3,  1,  2,  0,  1,  0,  1,  1,\n",
       "        0,  0,  0,  0,  0,  1,  1,  0,  2,  0,  1,  0,  0,  1,  0,  1,  0,\n",
       "        0,  0,  1,  1,  1,  0,  0,  0,  1,  0,  1,  1,  0,  0,  0,  1,  0,\n",
       "        0,  0,  0,  0,  0,  0,  0,  0,  0,  0,  0,  0,  0,  1,  2,  1,  1,\n",
       "        2,  2,  1,  2,  2,  0,  2,  0,  0,  1,  2,  1,  2,  2,  0,  2,  3,\n",
       "        0,  2,  0,  0,  0,  0,  0,  0,  2,  0,  1,  0,  2,  0,  0,  0,  2,\n",
       "        0,  0,  0,  0,  0,  0,  0,  0,  0,  1,  1,  0,  2,  2,  0,  1,  0,\n",
       "        1,  0,  1,  0,  0,  3,  2,  0,  0,  0,  0,  0,  0,  0,  0,  0,  0,\n",
       "        1,  0,  0,  0,  0,  0,  3,  0,  0,  0,  0,  0,  0,  0,  0,  1,  0,\n",
       "        0,  0,  0,  0,  0,  0,  0,  0,  0, -1,  0,  0,  2,  0,  2,  0,  2,\n",
       "       -1,  0,  0,  0,  2,  2,  0,  0,  0,  2,  0,  0,  0,  0,  0,  0,  0,\n",
       "        0,  0,  0,  0,  1,  0,  0,  0,  0,  0,  2,  1,  0,  0,  0,  0,  2,\n",
       "        2,  0,  0,  0,  0,  2,  0,  0,  0,  0,  0,  1,  2,  2,  0,  0,  0,\n",
       "        0,  0,  0,  0, -1,  0,  0,  0,  0,  0,  0,  0,  0,  1,  0,  0,  0,\n",
       "        0,  2,  0,  0,  0,  0,  0,  0,  3,  1,  2,  0,  0,  0,  2,  1,  2,\n",
       "        2,  2,  0,  2,  3,  0,  3,  0,  2,  0,  0,  1,  0,  0,  3,  3,  3,\n",
       "        1,  2,  0,  2,  3, -1,  0,  0,  0,  1,  0,  0,  2,  1,  0,  0,  2,\n",
       "        2,  2,  3,  2,  0,  1,  0,  0,  2,  2,  2,  0,  0,  1,  0,  3,  0,\n",
       "        0,  0,  3,  0,  0, -1,  0, -1,  0,  0,  1,  2,  1,  0,  3,  0,  0,\n",
       "        3,  0,  2,  0,  0,  0,  0,  0,  0,  3,  3,  3,  0,  0,  1,  0,  1,\n",
       "        0,  0,  1,  0,  1,  1,  0,  2,  2,  3,  0,  0,  1,  0,  0,  2,  2,\n",
       "        2,  3,  0,  0,  0,  0,  0,  0,  0,  0,  2,  3,  2,  1,  0,  0,  2,\n",
       "        0,  2,  0,  2,  0,  0,  0,  1,  0,  0,  0,  0,  2,  2,  0,  0,  0,\n",
       "        0,  0,  2,  2,  0,  2,  0,  0,  0,  0,  0,  0,  0,  0,  0,  0,  0,\n",
       "        0,  0,  0,  0,  3,  0,  0,  3,  2,  2,  2,  2,  0,  0,  3,  2, -1,\n",
       "        0,  0,  2,  2,  0,  3,  2,  2,  0,  2,  2,  2,  2,  2,  0,  0,  2,\n",
       "        3,  0,  2,  2,  2,  2,  0,  2,  2,  1,  2,  0,  2,  0,  2,  1,  2,\n",
       "        2,  2,  2,  2,  3,  2,  2,  2,  2,  0,  0,  0,  2,  2,  0,  2,  2,\n",
       "        0,  2,  2,  0,  0,  2,  0,  0,  0,  0,  0,  1,  3,  0,  0,  0,  3,\n",
       "        3,  0,  0,  0,  1,  0,  0,  1,  1,  0,  0,  1,  2,  2,  0,  0,  0,\n",
       "        1,  1,  1,  0,  1,  1,  1,  1,  1,  0,  0,  0,  0,  0,  0,  0,  0,\n",
       "        1,  2,  0,  2,  2,  2,  0,  0,  0,  0,  0,  0,  0,  1,  2,  0,  0,\n",
       "        0,  0, -1,  0,  0,  0,  0,  0,  0,  0,  0,  0,  0,  0,  2,  2,  2,\n",
       "        2,  0,  2,  2,  0,  0,  1,  1,  0,  0,  0,  2,  2,  2,  0,  2,  2,\n",
       "        2,  2,  0,  0,  2,  0,  3,  0, -1,  2,  0,  1,  3,  2,  3,  2,  2,\n",
       "        2,  2,  2,  2,  0,  1,  0,  1,  0,  3,  1,  0,  0,  0, -1,  0,  0,\n",
       "        3,  0,  3,  2,  2,  0,  0,  2,  0,  2], dtype=int64)"
      ]
     },
     "execution_count": 16,
     "metadata": {},
     "output_type": "execute_result"
    }
   ],
   "source": [
    "labels"
   ]
  },
  {
   "cell_type": "code",
   "execution_count": 17,
   "metadata": {},
   "outputs": [
    {
     "name": "stdout",
     "output_type": "stream",
     "text": [
      "Estimated number of clusters: 4\n",
      "Estimated number of noise points: 10\n"
     ]
    }
   ],
   "source": [
    "n_clusters_ = len(set(labels)) - (1 if -1 in labels else 0)\n",
    "n_noise_ = list(labels).count(-1)\n",
    "\n",
    "print('Estimated number of clusters: %d' % n_clusters_)\n",
    "print('Estimated number of noise points: %d' % n_noise_)"
   ]
  },
  {
   "cell_type": "code",
   "execution_count": 18,
   "metadata": {},
   "outputs": [
    {
     "data": {
      "image/png": "[encoded data removed]",
      "text/plain": [
       "<Figure size 432x288 with 1 Axes>"
      ]
     },
     "metadata": {
      "needs_background": "light"
     },
     "output_type": "display_data"
    }
   ],
   "source": [
    "# Generate scatter plot \n",
    "colors = list(map(lambda x: '#3b4cc0' if x == 1 else '#b40426', labels))\n",
    "plt.scatter(df.iloc[:,1], df.iloc[:,2], c=colors, marker=\"o\", picker=True)\n",
    "plt.title('Two clusters with data')\n",
    "plt.xlabel('Axis df[1]')\n",
    "plt.ylabel('Axis df[2]')\n",
    "plt.show()"
   ]
  },
  {
   "cell_type": "code",
   "execution_count": 19,
   "metadata": {},
   "outputs": [
    {
     "data": {
      "image/png": "[encoded data removed]",
      "text/plain": [
       "<Figure size 432x288 with 1 Axes>"
      ]
     },
     "metadata": {
      "needs_background": "light"
     },
     "output_type": "display_data"
    }
   ],
   "source": [
    "core_samples_mask = np.zeros_like(db_default.labels_, dtype=bool)\n",
    "core_samples_mask[db_default.core_sample_indices_] = True\n",
    "labels = db_default.labels_\n",
    "\n",
    "\n",
    "# #############################################################################\n",
    "# Plot result\n",
    "import matplotlib.pyplot as plt\n",
    "\n",
    "# Black removed and is used for noise instead.\n",
    "unique_labels = set(labels)\n",
    "colors = [plt.cm.Spectral(each)\n",
    "          for each in np.linspace(0, 1, len(unique_labels))]\n",
    "for k, col in zip(unique_labels, colors):\n",
    "    if k == -1:\n",
    "        # Black used for noise.\n",
    "        col = [0, 0, 0, 1]\n",
    "\n",
    "    class_member_mask = (labels == k)\n",
    "\n",
    "    xy = df[class_member_mask & core_samples_mask]\n",
    "    plt.plot(xy.iloc[:, 1], xy.iloc[:, 2], '.', markerfacecolor=tuple(col),\n",
    "             markeredgecolor='m', markersize=14)\n",
    "\n",
    "    xy = df[class_member_mask & ~core_samples_mask]\n",
    "    plt.plot(xy.iloc[:, 1], xy.iloc[:, 2], '.', markerfacecolor=tuple(col),\n",
    "             markeredgecolor='y', markersize=6)\n",
    "\n",
    "plt.title('Estimated number of clusters: %d' % n_clusters_)\n",
    "plt.show()"
   ]
  },
  {
   "cell_type": "code",
   "execution_count": 20,
   "metadata": {},
   "outputs": [
    {
     "data": {
      "image/png": "[encoded data removed]",
      "text/plain": [
       "<Figure size 432x288 with 1 Axes>"
      ]
     },
     "metadata": {
      "needs_background": "light"
     },
     "output_type": "display_data"
    }
   ],
   "source": [
    "plt.scatter(df['Mark'], df['totalNum_AA'], c=df['Num_days'])\n",
    "\n",
    "plt.xlabel('Mark')\n",
    "plt.ylabel('Alertlevel')\n",
    "plt.show()"
   ]
  },
  {
   "cell_type": "code",
   "execution_count": 21,
   "metadata": {},
   "outputs": [
    {
     "name": "stdout",
     "output_type": "stream",
     "text": [
      "Estimated number of clusters: 4\n",
      "Estimated number of noise points: 10\n"
     ]
    },
    {
     "data": {
      "text/plain": [
       "'\\nprint(\"Homogeneity: %0.3f\" % metrics.homogeneity_score(labels_true, labels))\\nprint(\"Completeness: %0.3f\" % metrics.completeness_score(labels_true, labels))\\nprint(\"V-measure: %0.3f\" % metrics.v_measure_score(labels_true, labels))\\nprint(\"Adjusted Rand Index: %0.3f\"\\n      % metrics.adjusted_rand_score(labels_true, labels))\\nprint(\"Adjusted Mutual Information: %0.3f\"\\n      % metrics.adjusted_mutual_info_score(labels_true, labels))\\nprint(\"Silhouette Coefficient: %0.3f\"\\n      % metrics.silhouette_score(X, labels))\\n\\'\\'\\'\\n# #############################################################################\\n# Plot result\\nimport matplotlib.pyplot as plt\\n\\n# Black removed and is used for noise instead.\\nunique_labels = set(labels)\\ncolors = [plt.cm.Spectral(each)\\n          for each in np.linspace(0, 1, len(unique_labels))]\\nfor k, col in zip(unique_labels, colors):\\n    if k == -1:\\n        # Black used for noise.\\n        col = [0, 0, 0, 1]\\n\\n    class_member_mask = (labels == k)\\n\\n    xy = X[class_member_mask & core_samples_mask]\\n    plt.plot(xy[:, 0], xy[:, 1], \\'o\\', markerfacecolor=tuple(col),\\n             markeredgecolor=\\'k\\', markersize=14)\\n\\n    xy = X[class_member_mask & ~core_samples_mask]\\n    plt.plot(xy[:, 0], xy[:, 1], \\'o\\', markerfacecolor=tuple(col),\\n             markeredgecolor=\\'k\\', markersize=6)\\n\\nplt.title(\\'Estimated number of clusters: %d\\' % n_clusters_)\\nplt.show()\\n'"
      ]
     },
     "execution_count": 21,
     "metadata": {},
     "output_type": "execute_result"
    }
   ],
   "source": [
    "from sklearn.cluster import DBSCAN\n",
    "from sklearn import metrics\n",
    "#from sklearn.datasets import make_blobs\n",
    "from sklearn.preprocessing import StandardScaler\n",
    "\n",
    "#cluster_centers = [(1,1), (3,3), (5,5), (8,8)]\n",
    "#centers = cluster_centers\n",
    "#num_classes = len(cluster_centers)\n",
    "#epsilon = 1.0\n",
    "#min_samples = 13\n",
    "\n",
    "#X, labels_true = make_blobs(n_samples=622, centers=centers, cluster_std=0.3,random_state=0)\n",
    "\n",
    "core_samples_mask = np.zeros_like(db_default.labels_, dtype=bool)\n",
    "core_samples_mask[db_default.core_sample_indices_] = True\n",
    "labels = db_default.labels_\n",
    "\n",
    "# Number of clusters in labels, ignoring noise if present.\n",
    "n_clusters_ = len(set(labels)) - (1 if -1 in labels else 0)\n",
    "n_noise_ = list(labels).count(-1)\n",
    "\n",
    "print('Estimated number of clusters: %d' % n_clusters_)\n",
    "print('Estimated number of noise points: %d' % n_noise_)\n",
    "\n",
    "\"\"\"\n",
    "print(\"Homogeneity: %0.3f\" % metrics.homogeneity_score(labels_true, labels))\n",
    "print(\"Completeness: %0.3f\" % metrics.completeness_score(labels_true, labels))\n",
    "print(\"V-measure: %0.3f\" % metrics.v_measure_score(labels_true, labels))\n",
    "print(\"Adjusted Rand Index: %0.3f\"\n",
    "      % metrics.adjusted_rand_score(labels_true, labels))\n",
    "print(\"Adjusted Mutual Information: %0.3f\"\n",
    "      % metrics.adjusted_mutual_info_score(labels_true, labels))\n",
    "print(\"Silhouette Coefficient: %0.3f\"\n",
    "      % metrics.silhouette_score(X, labels))\n",
    "'''\n",
    "# #############################################################################\n",
    "# Plot result\n",
    "import matplotlib.pyplot as plt\n",
    "\n",
    "# Black removed and is used for noise instead.\n",
    "unique_labels = set(labels)\n",
    "colors = [plt.cm.Spectral(each)\n",
    "          for each in np.linspace(0, 1, len(unique_labels))]\n",
    "for k, col in zip(unique_labels, colors):\n",
    "    if k == -1:\n",
    "        # Black used for noise.\n",
    "        col = [0, 0, 0, 1]\n",
    "\n",
    "    class_member_mask = (labels == k)\n",
    "\n",
    "    xy = X[class_member_mask & core_samples_mask]\n",
    "    plt.plot(xy[:, 0], xy[:, 1], 'o', markerfacecolor=tuple(col),\n",
    "             markeredgecolor='k', markersize=14)\n",
    "\n",
    "    xy = X[class_member_mask & ~core_samples_mask]\n",
    "    plt.plot(xy[:, 0], xy[:, 1], 'o', markerfacecolor=tuple(col),\n",
    "             markeredgecolor='k', markersize=6)\n",
    "\n",
    "plt.title('Estimated number of clusters: %d' % n_clusters_)\n",
    "plt.show()\n",
    "\"\"\""
   ]
  },
  {
   "cell_type": "code",
   "execution_count": 22,
   "metadata": {},
   "outputs": [
    {
     "data": {
      "text/plain": [
       "DBSCAN(eps=0.4, min_samples=20)"
      ]
     },
     "execution_count": 22,
     "metadata": {},
     "output_type": "execute_result"
    }
   ],
   "source": [
    "from sklearn.cluster import DBSCAN\n",
    "db = DBSCAN(eps=0.4, min_samples=20)\n",
    "db.fit(df)"
   ]
  },
  {
   "cell_type": "code",
   "execution_count": 23,
   "metadata": {},
   "outputs": [
    {
     "data": {
      "text/plain": [
       "Text(0.5, 1.0, 'Clusters determined by DBSCAN')"
      ]
     },
     "execution_count": 23,
     "metadata": {},
     "output_type": "execute_result"
    },
    {
     "data": {
      "image/png": "[encoded data removed]",
      "text/plain": [
       "<Figure size 720x432 with 1 Axes>"
      ]
     },
     "metadata": {
      "needs_background": "light"
     },
     "output_type": "display_data"
    }
   ],
   "source": [
    "y_pred = db.fit_predict(df)\n",
    "plt.figure(figsize=(10,6))\n",
    "plt.scatter(df.iloc[:,0], df.iloc[:,1],c=y_pred, cmap='Paired')\n",
    "plt.title(\"Clusters determined by DBSCAN\")"
   ]
  },
  {
   "cell_type": "code",
   "execution_count": 24,
   "metadata": {},
   "outputs": [
    {
     "data": {
      "text/plain": [
       "302"
      ]
     },
     "execution_count": 24,
     "metadata": {},
     "output_type": "execute_result"
    }
   ],
   "source": [
    "db.labels_[db.labels_ == -1].size"
   ]
  },
  {
   "cell_type": "code",
   "execution_count": 26,
   "metadata": {},
   "outputs": [
    {
     "data": {
      "text/plain": [
       "31"
      ]
     },
     "execution_count": 26,
     "metadata": {},
     "output_type": "execute_result"
    }
   ],
   "source": [
    "db.labels_[db.labels_ == 1].size"
   ]
  },
  {
   "cell_type": "code",
   "execution_count": 30,
   "metadata": {},
   "outputs": [],
   "source": [
    "df['Cluster'] = db.labels_"
   ]
  },
  {
   "cell_type": "code",
   "execution_count": 41,
   "metadata": {},
   "outputs": [],
   "source": [
    "df['src_ip'] = dk.src_ip"
   ]
  },
  {
   "cell_type": "code",
   "execution_count": 42,
   "metadata": {},
   "outputs": [
    {
     "data": {
      "text/html": [
       "<div>\n",
       "<style scoped>\n",
       "    .dataframe tbody tr th:only-of-type {\n",
       "        vertical-align: middle;\n",
       "    }\n",
       "\n",
       "    .dataframe tbody tr th {\n",
       "        vertical-align: top;\n",
       "    }\n",
       "\n",
       "    .dataframe thead th {\n",
       "        text-align: right;\n",
       "    }\n",
       "</style>\n",
       "<table border=\"1\" class=\"dataframe\">\n",
       "  <thead>\n",
       "    <tr style=\"text-align: right;\">\n",
       "      <th></th>\n",
       "      <th>totalNum_AA</th>\n",
       "      <th>Num_countries</th>\n",
       "      <th>Num_days</th>\n",
       "      <th>Alertlevel</th>\n",
       "      <th>totalNum_TA</th>\n",
       "      <th>totalNum_TA_</th>\n",
       "      <th>Mark</th>\n",
       "      <th>Cluster</th>\n",
       "      <th>src_ip</th>\n",
       "    </tr>\n",
       "  </thead>\n",
       "  <tbody>\n",
       "    <tr>\n",
       "      <th>0</th>\n",
       "      <td>1.0</td>\n",
       "      <td>1.0</td>\n",
       "      <td>1.0</td>\n",
       "      <td>0.3</td>\n",
       "      <td>1.0</td>\n",
       "      <td>1</td>\n",
       "      <td>0.040625</td>\n",
       "      <td>0</td>\n",
       "      <td>1.202.147.132</td>\n",
       "    </tr>\n",
       "    <tr>\n",
       "      <th>1</th>\n",
       "      <td>1.0</td>\n",
       "      <td>1.0</td>\n",
       "      <td>2.0</td>\n",
       "      <td>0.3</td>\n",
       "      <td>1.0</td>\n",
       "      <td>4</td>\n",
       "      <td>0.053125</td>\n",
       "      <td>-1</td>\n",
       "      <td>1.204.24.117</td>\n",
       "    </tr>\n",
       "    <tr>\n",
       "      <th>2</th>\n",
       "      <td>1.0</td>\n",
       "      <td>1.0</td>\n",
       "      <td>1.0</td>\n",
       "      <td>0.3</td>\n",
       "      <td>1.0</td>\n",
       "      <td>1</td>\n",
       "      <td>0.040625</td>\n",
       "      <td>0</td>\n",
       "      <td>1.56.64.79</td>\n",
       "    </tr>\n",
       "    <tr>\n",
       "      <th>3</th>\n",
       "      <td>1.0</td>\n",
       "      <td>1.0</td>\n",
       "      <td>1.0</td>\n",
       "      <td>0.3</td>\n",
       "      <td>1.0</td>\n",
       "      <td>4</td>\n",
       "      <td>0.053125</td>\n",
       "      <td>-1</td>\n",
       "      <td>1.71.189.116</td>\n",
       "    </tr>\n",
       "    <tr>\n",
       "      <th>4</th>\n",
       "      <td>1.0</td>\n",
       "      <td>1.0</td>\n",
       "      <td>1.0</td>\n",
       "      <td>0.3</td>\n",
       "      <td>1.0</td>\n",
       "      <td>1</td>\n",
       "      <td>0.040625</td>\n",
       "      <td>0</td>\n",
       "      <td>10.108.2.96</td>\n",
       "    </tr>\n",
       "  </tbody>\n",
       "</table>\n",
       "</div>"
      ],
      "text/plain": [
       "   totalNum_AA  Num_countries  Num_days  Alertlevel  totalNum_TA  \\\n",
       "0          1.0            1.0       1.0         0.3          1.0   \n",
       "1          1.0            1.0       2.0         0.3          1.0   \n",
       "2          1.0            1.0       1.0         0.3          1.0   \n",
       "3          1.0            1.0       1.0         0.3          1.0   \n",
       "4          1.0            1.0       1.0         0.3          1.0   \n",
       "\n",
       "   totalNum_TA_      Mark  Cluster         src_ip  \n",
       "0             1  0.040625        0  1.202.147.132  \n",
       "1             4  0.053125       -1   1.204.24.117  \n",
       "2             1  0.040625        0     1.56.64.79  \n",
       "3             4  0.053125       -1   1.71.189.116  \n",
       "4             1  0.040625        0    10.108.2.96  "
      ]
     },
     "execution_count": 42,
     "metadata": {},
     "output_type": "execute_result"
    }
   ],
   "source": [
    "df.head()"
   ]
  },
  {
   "cell_type": "code",
   "execution_count": 32,
   "metadata": {},
   "outputs": [],
   "source": [
    "# Размер надписей на графиках\n",
    "PLOT_LABEL_FONT_SIZE = 14 \n",
    "# Генерация цветовой схемы\n",
    "# Возвращает список цветов\n",
    "def getColors(n):\n",
    "    COLORS = []\n",
    "    cm = plt.cm.get_cmap('hsv', n)\n",
    "    for i in np.arange(n):\n",
    "        COLORS.append(cm(i))\n",
    "    return COLORS"
   ]
  },
  {
   "cell_type": "code",
   "execution_count": 33,
   "metadata": {},
   "outputs": [],
   "source": [
    "def dict_sort(my_dict):\n",
    "    keys = []\n",
    "    values = []\n",
    "    my_dict = sorted(my_dict.items(), key=lambda x:x[1], reverse=True)\n",
    "    for k, v in my_dict:\n",
    "        keys.append(k)\n",
    "        values.append(v)\n",
    "    return (keys,values)"
   ]
  },
  {
   "cell_type": "code",
   "execution_count": 34,
   "metadata": {},
   "outputs": [
    {
     "data": {
      "image/png": "[encoded data removed]",
      "text/plain": [
       "<Figure size 432x288 with 1 Axes>"
      ]
     },
     "metadata": {
      "needs_background": "light"
     },
     "output_type": "display_data"
    }
   ],
   "source": [
    "cluster_count = pd.value_counts(df['Cluster'].values, sort=True)\n",
    "cluster_count_keys,cluster_count_values = dict_sort(dict(cluster_count))    \n",
    "TOP_CLUSTER = len(cluster_count_keys)\n",
    "plt.title('Cluster distribution', fontsize=PLOT_LABEL_FONT_SIZE)\n",
    "plt.bar(np.arange(TOP_CLUSTER), cluster_count_values, color=getColors(TOP_CLUSTER))\n",
    "plt.xticks(np.arange(TOP_CLUSTER), cluster_count_keys, rotation=90, fontsize=8)\n",
    "plt.yticks(fontsize=PLOT_LABEL_FONT_SIZE)\n",
    "plt.ylabel('Number of attackers', fontsize=PLOT_LABEL_FONT_SIZE)\n",
    "#plt.yscale('log')\n",
    "plt.show()"
   ]
  },
  {
   "cell_type": "code",
   "execution_count": 35,
   "metadata": {},
   "outputs": [
    {
     "data": {
      "text/plain": [
       "<matplotlib.collections.PathCollection at 0x20e6c9e15b0>"
      ]
     },
     "execution_count": 35,
     "metadata": {},
     "output_type": "execute_result"
    },
    {
     "data": {
      "image/png": "[encoded data removed]",
      "text/plain": [
       "<Figure size 432x288 with 1 Axes>"
      ]
     },
     "metadata": {
      "needs_background": "light"
     },
     "output_type": "display_data"
    }
   ],
   "source": [
    "plt.scatter(df['Cluster'], df['Mark'], c= db.labels_.astype(float), s=10, alpha=0.5)"
   ]
  },
  {
   "cell_type": "code",
   "execution_count": 36,
   "metadata": {},
   "outputs": [
    {
     "data": {
      "text/plain": [
       "<matplotlib.axes._subplots.AxesSubplot at 0x20e6ca1ecd0>"
      ]
     },
     "execution_count": 36,
     "metadata": {},
     "output_type": "execute_result"
    },
    {
     "data": {
      "image/png": "[encoded data removed]",
      "text/plain": [
       "<Figure size 432x288 with 1 Axes>"
      ]
     },
     "metadata": {
      "needs_background": "light"
     },
     "output_type": "display_data"
    }
   ],
   "source": [
    "df.plot.hist()"
   ]
  },
  {
   "cell_type": "code",
   "execution_count": null,
   "metadata": {},
   "outputs": [],
   "source": []
  },
  {
   "cell_type": "code",
   "execution_count": null,
   "metadata": {},
   "outputs": [],
   "source": []
  },
  {
   "cell_type": "code",
   "execution_count": null,
   "metadata": {},
   "outputs": [],
   "source": []
  }
 ],
 "metadata": {
  "kernelspec": {
   "display_name": "Python 3 (ipykernel)",
   "language": "python",
   "name": "python3"
  },
  "language_info": {
   "codemirror_mode": {
    "name": "ipython",
    "version": 3
   },
   "file_extension": ".py",
   "mimetype": "text/x-python",
   "name": "python",
   "nbconvert_exporter": "python",
   "pygments_lexer": "ipython3",
   "version": "3.9.7"
  }
 },
 "nbformat": 4,
 "nbformat_minor": 4
}
